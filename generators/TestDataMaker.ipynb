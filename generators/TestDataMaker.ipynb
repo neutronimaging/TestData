{
 "cells": [
  {
   "cell_type": "code",
   "execution_count": 21,
   "metadata": {
    "collapsed": true
   },
   "outputs": [],
   "source": [
    "import numpy as np\n",
    "import matplotlib.pyplot as plt\n",
    "import scipy.ndimage as img\n",
    "from skimage import io\n",
    "%matplotlib inline"
   ]
  },
  {
   "cell_type": "code",
   "execution_count": 3,
   "metadata": {},
   "outputs": [],
   "source": []
  },
  {
   "cell_type": "code",
   "execution_count": 26,
   "metadata": {},
   "outputs": [],
   "source": [
    "ampl=500;\n",
    "a=np.zeros([256,256],dtype=np.uint16);\n",
    "a[40:210,40:210]=ampl\n",
    "a=a+100\n",
    "fa=img.gaussian_filter(a,sigma=1.5)\n",
    "nfa=fa+np.random.normal(0.0,ampl*0.05,size=a.shape)"
   ]
  },
  {
   "cell_type": "code",
   "execution_count": 37,
   "metadata": {},
   "outputs": [
    {
     "data": {
      "text/plain": [
       "dtype('uint16')"
      ]
     },
     "execution_count": 37,
     "metadata": {},
     "output_type": "execute_result"
    },
    {
     "data": {
      "image/png": "[encoded data removed]",
      "text/plain": [
       "<matplotlib.figure.Figure at 0x1166187f0>"
      ]
     },
     "metadata": {},
     "output_type": "display_data"
    }
   ],
   "source": [
    "plt.imshow(nfa.astype(np.uint16))\n",
    "nfa=nfa.astype(np.uint16)\n",
    "nfa.dtype"
   ]
  },
  {
   "cell_type": "code",
   "execution_count": 38,
   "metadata": {},
   "outputs": [
    {
     "name": "stderr",
     "output_type": "stream",
     "text": [
      "/Users/kaestner/anaconda/lib/python3.6/site-packages/skimage/io/_io.py:132: UserWarning: sharp.tif is a low contrast image\n",
      "  warn('%s is a low contrast image' % fname)\n",
      "/Users/kaestner/anaconda/lib/python3.6/site-packages/skimage/io/_io.py:132: UserWarning: smooth.tif is a low contrast image\n",
      "  warn('%s is a low contrast image' % fname)\n",
      "/Users/kaestner/anaconda/lib/python3.6/site-packages/skimage/io/_io.py:132: UserWarning: noisy_smooth.tif is a low contrast image\n",
      "  warn('%s is a low contrast image' % fname)\n"
     ]
    }
   ],
   "source": [
    "io.imsave('sharp.tif',a)\n",
    "io.imsave('smooth.tif',fa)\n",
    "io.imsave('noisy_smooth.tif',nfa)"
   ]
  },
  {
   "cell_type": "code",
   "execution_count": null,
   "metadata": {
    "collapsed": true
   },
   "outputs": [],
   "source": []
  }
 ],
 "metadata": {
  "kernelspec": {
   "display_name": "Python 3",
   "language": "python",
   "name": "python3"
  },
  "language_info": {
   "codemirror_mode": {
    "name": "ipython",
    "version": 3
   },
   "file_extension": ".py",
   "mimetype": "text/x-python",
   "name": "python",
   "nbconvert_exporter": "python",
   "pygments_lexer": "ipython3",
   "version": "3.6.1"
  }
 },
 "nbformat": 4,
 "nbformat_minor": 2
}
