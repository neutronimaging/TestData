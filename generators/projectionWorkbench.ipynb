{
 "cells": [
  {
   "cell_type": "code",
   "execution_count": 95,
   "id": "bde6d93a-08f8-40d3-988f-d72e80f557f1",
   "metadata": {},
   "outputs": [],
   "source": [
    "import numpy as np\n",
    "import matplotlib.pyplot as plt\n",
    "import makeprojections as mp\n",
    "import tifffile as tiff"
   ]
  },
  {
   "cell_type": "code",
   "execution_count": 97,
   "id": "86b2091e-a1ce-4c3d-acaf-04ec34230427",
   "metadata": {},
   "outputs": [
    {
     "data": {
      "text/plain": [
       "<module 'makeprojections' from '/home/kaestner/git/TestData/generators/makeprojections.py'>"
      ]
     },
     "execution_count": 97,
     "metadata": {},
     "output_type": "execute_result"
    }
   ],
   "source": [
    "import importlib \n",
    "importlib.reload(mp)"
   ]
  },
  {
   "cell_type": "code",
   "execution_count": null,
   "id": "c4be764e-fc9e-432c-89b0-6c3741986d39",
   "metadata": {},
   "outputs": [],
   "source": [
    "fig,ax = plt.subplots(1,2, figsize=(15,6))\n",
    "img=mp.makeSample(100,1.0)\n",
    "ax[0].imshow(img)\n",
    "ax[1].plot(img[50])"
   ]
  },
  {
   "cell_type": "code",
   "execution_count": null,
   "id": "63e39930-85fa-4b41-802f-3bdc3833c483",
   "metadata": {},
   "outputs": [],
   "source": [
    "fig,ax = plt.subplots(1,2, figsize=(15,6))\n",
    "ob=mp.makeOpenBeam(100)\n",
    "ax[0].imshow(ob)\n",
    "ax[1].plot(ob[50])"
   ]
  },
  {
   "cell_type": "code",
   "execution_count": null,
   "id": "d0fac5f6-c0c4-4a5a-8ea5-783cbef02b2c",
   "metadata": {},
   "outputs": [],
   "source": [
    "plt.imshow(img*ob*amplitude)"
   ]
  },
  {
   "cell_type": "code",
   "execution_count": null,
   "id": "db7ef1b5-2072-4f88-b2be-047f6dec899f",
   "metadata": {},
   "outputs": [],
   "source": [
    "N=256\n",
    "amplitude=10000\n",
    "img = mp.makeSample(N,1.0)\n",
    "ob  = mp.makeOpenBeam(N)\n",
    "dc  = mp.makeDarkCurrent(N,level=300,sigma=0.05)\n",
    "p=mp.makeProjection(img,ob*amplitude,dc,SNR=30)\n",
    "\n",
    "fig,ax = plt.subplots(1,2, figsize=(15,6))\n",
    "ax[0].imshow(p)\n",
    "ax[1].plot(p[N//2])"
   ]
  },
  {
   "cell_type": "code",
   "execution_count": null,
   "id": "7560d7eb-0f7a-4746-a5a8-796a2e3d55e4",
   "metadata": {},
   "outputs": [],
   "source": [
    "fig,ax = plt.subplots(1,2, figsize=(15,6))\n",
    "pp = -np.log((p-dc)/(amplitude*ob))\n",
    "ax[0].imshow(pp)\n",
    "ax[1].plot(pp[N//2])"
   ]
  },
  {
   "cell_type": "code",
   "execution_count": null,
   "id": "581d9692-099a-42b1-9487-d38ee4e2b523",
   "metadata": {},
   "outputs": [],
   "source": [
    "SNR=1\n",
    "plt.imshow(np.random.normal(0,1/SNR,size=img.shape))\n",
    "plt.colorbar()"
   ]
  },
  {
   "cell_type": "code",
   "execution_count": null,
   "id": "69e63e80-8126-4b42-b62f-3619194829e1",
   "metadata": {},
   "outputs": [],
   "source": [
    "size=256\n",
    "ampl = 10000\n",
    "SNR = 30\n",
    "path = 'data'\n",
    "filemask = 'proj_{0}_'.format(N)+'{0:05}.tif'\n",
    "Nsample = 100\n",
    "Nrefs = 10\n",
    "mp.makeTomodata(size,ampl,SNR,path,filemask,Nsample,Nrefs)"
   ]
  },
  {
   "cell_type": "code",
   "execution_count": null,
   "id": "57a8ea9d-8816-488b-903f-401e64ad2aa7",
   "metadata": {},
   "outputs": [],
   "source": [
    "dc = tiff.imread('data/dc_00000.tif').astype(float)\n",
    "ob = tiff.imread('data/ob_00000.tif').astype(float)\n",
    "img = tiff.imread('data/proj_256_00000.tif').astype(float)"
   ]
  },
  {
   "cell_type": "code",
   "execution_count": null,
   "id": "b0971121-a7fb-4696-af1e-41cddb7cabda",
   "metadata": {},
   "outputs": [],
   "source": [
    "p=(img-dc)/(ob-dc)"
   ]
  },
  {
   "cell_type": "code",
   "execution_count": null,
   "id": "9a4acb9b-cfb9-465c-8215-9ed5a4a42c77",
   "metadata": {},
   "outputs": [],
   "source": [
    "fig,ax = plt.subplots(2,2, figsize=(15,6))\n",
    "ax=ax.ravel()\n",
    "ax[0].imshow(p)\n",
    "ax[1].plot(p[N//2])\n",
    "pp = -np.log(p)\n",
    "ax[2].imshow(pp)\n",
    "ax[3].plot(pp[N//2])"
   ]
  },
  {
   "cell_type": "code",
   "execution_count": 92,
   "id": "bb6cbffc-932b-4697-9138-feae7677b0e0",
   "metadata": {},
   "outputs": [
    {
     "name": "stdout",
     "output_type": "stream",
     "text": [
      "Help on module makeprojections:\n",
      "\n",
      "NAME\n",
      "    makeprojections\n",
      "\n",
      "FUNCTIONS\n",
      "    addNoise(img)\n",
      "    \n",
      "    addSpots(img, fraction, amplitude, width)\n",
      "    \n",
      "    makeDarkCurrent(N, level, sigma)\n",
      "    \n",
      "    makeOpenBeam(N)\n",
      "    \n",
      "    makeProjection(img, ob, dc, SNR=100)\n",
      "    \n",
      "    makeSample(N, mu)\n",
      "        Creates projection of a sphere made of a material with a specified attenuation coefficient.\n",
      "        \n",
      "        Parameters\n",
      "        ----------\n",
      "        N : integer\n",
      "            Projection size NxN pixels\n",
      "        mu : float\n",
      "            Attenuation coefficient of the material\n",
      "    \n",
      "    makeTomodata(size, ampl, SNR, path, filemask, Nsample, Nrefs)\n",
      "\n",
      "FILE\n",
      "    /home/kaestner/git/TestData/generators/makeprojections.py\n",
      "\n",
      "\n"
     ]
    }
   ],
   "source": [
    "help(mp)"
   ]
  },
  {
   "cell_type": "code",
   "execution_count": null,
   "id": "344fcd51-c4ac-48ed-a24f-d73227b43855",
   "metadata": {},
   "outputs": [],
   "source": []
  }
 ],
 "metadata": {
  "kernelspec": {
   "display_name": "Python 3",
   "language": "python",
   "name": "python3"
  },
  "language_info": {
   "codemirror_mode": {
    "name": "ipython",
    "version": 3
   },
   "file_extension": ".py",
   "mimetype": "text/x-python",
   "name": "python",
   "nbconvert_exporter": "python",
   "pygments_lexer": "ipython3",
   "version": "3.8.8"
  }
 },
 "nbformat": 4,
 "nbformat_minor": 5
}
